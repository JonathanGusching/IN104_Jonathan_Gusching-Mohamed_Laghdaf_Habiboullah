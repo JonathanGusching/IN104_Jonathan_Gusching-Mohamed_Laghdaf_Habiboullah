{
 "cells": [
  {
   "cell_type": "markdown",
   "id": "c7a44161",
   "metadata": {},
   "source": [
    "# Methodes de descente de Gradient"
   ]
  },
  {
   "cell_type": "code",
   "execution_count": 2,
   "id": "91067324",
   "metadata": {},
   "outputs": [
    {
     "data": {
      "text/plain": [
       "df (generic function with 1 method)"
      ]
     },
     "execution_count": 2,
     "metadata": {},
     "output_type": "execute_result"
    }
   ],
   "source": [
    "using Optim\n",
    "using LinearAlgebra\n",
    "\n",
    "f(x)=x^2+1\n",
    "df(x)=2*x # admettons qu'on a la dérivée sinon on peut l'approximer avec les éléments finis"
   ]
  },
  {
   "cell_type": "code",
   "execution_count": 3,
   "id": "a644ba3f",
   "metadata": {},
   "outputs": [
    {
     "data": {
      "text/plain": [
       "bracket_minimum (generic function with 2 methods)"
      ]
     },
     "execution_count": 3,
     "metadata": {},
     "output_type": "execute_result"
    }
   ],
   "source": [
    "function bracket_minimum(f, x=0; s=1e-2, k=2.0) # Cette fonction classique permet de réduire le domaine de recherche du min\n",
    "    a, ya= x,f(x)\n",
    "    b, yb= a+s, f(a+s)\n",
    "    if yb > ya\n",
    "        a, b = b, a\n",
    "        ya, yb = yb, ya\n",
    "        s = -s\n",
    "    end\n",
    "    while true\n",
    "        c, yc = b + s, f(b + s)\n",
    "        if yc > yb\n",
    "            return a < c ? (a, c) : (c, a)\n",
    "        end\n",
    "        a, ya, b, yb = b, yb, c, yc\n",
    "        s *= k\n",
    "    end\n",
    "end  "
   ]
  },
  {
   "cell_type": "code",
   "execution_count": 4,
   "id": "5dd1ea0c",
   "metadata": {},
   "outputs": [
    {
     "data": {
      "text/plain": [
       "(-0.01, 0.01)"
      ]
     },
     "execution_count": 4,
     "metadata": {},
     "output_type": "execute_result"
    }
   ],
   "source": [
    "(a,c)=bracket_minimum(f)"
   ]
  },
  {
   "cell_type": "code",
   "execution_count": 5,
   "id": "166fe5b6",
   "metadata": {},
   "outputs": [
    {
     "data": {
      "text/plain": [
       "line_search (generic function with 1 method)"
      ]
     },
     "execution_count": 5,
     "metadata": {},
     "output_type": "execute_result"
    }
   ],
   "source": [
    "function line_search(f,x,d) # Cette fonction sera utile pour modifier le pas\n",
    "    obj=c->f(x+c*d)\n",
    "    a, b = bracket_minimum(obj)\n",
    "    c = Optim.optimize(obj, a, b)\n",
    "    m=Optim.minimizer(c)\n",
    "    return (m,x + a*d)\n",
    "end\n"
   ]
  },
  {
   "cell_type": "code",
   "execution_count": 6,
   "id": "fdc5c9bf",
   "metadata": {},
   "outputs": [
    {
     "data": {
      "text/plain": [
       "(-0.5000000000000002, -1.54)"
      ]
     },
     "execution_count": 6,
     "metadata": {},
     "output_type": "execute_result"
    }
   ],
   "source": [
    "line_search(f,1,2)"
   ]
  },
  {
   "cell_type": "code",
   "execution_count": 7,
   "id": "f796e44b",
   "metadata": {},
   "outputs": [
    {
     "data": {
      "text/plain": [
       "step (generic function with 1 method)"
      ]
     },
     "execution_count": 7,
     "metadata": {},
     "output_type": "execute_result"
    }
   ],
   "source": [
    "abstract type DescentMethod end\n",
    "struct GradientDescent <: DescentMethod\n",
    "    a\n",
    "end\n",
    "init!(M::GradientDescent, f, df, x) = M\n",
    "function step(M::GradientDescent, f, df, x)\n",
    "    a,g= M.a, df(x)\n",
    "    return x-a*g\n",
    "end"
   ]
  },
  {
   "cell_type": "code",
   "execution_count": 8,
   "id": "37f16d3f",
   "metadata": {},
   "outputs": [
    {
     "data": {
      "text/plain": [
       "step1 (generic function with 1 method)"
      ]
     },
     "execution_count": 8,
     "metadata": {},
     "output_type": "execute_result"
    }
   ],
   "source": [
    "mutable struct GradientDescentOpt <: DescentMethod\n",
    "    a\n",
    "end\n",
    "init!(M::GradientDescentOpt, f, df, x) = M\n",
    "function step1(M::GradientDescentOpt, f, df, x)\n",
    "    d=-df(x)\n",
    "    M.a , x1 =line_search(f,x,d)\n",
    "    return x1\n",
    "end"
   ]
  },
  {
   "cell_type": "code",
   "execution_count": 9,
   "id": "6ec131f5",
   "metadata": {},
   "outputs": [
    {
     "data": {
      "text/plain": [
       "step2 (generic function with 1 method)"
      ]
     },
     "execution_count": 9,
     "metadata": {},
     "output_type": "execute_result"
    }
   ],
   "source": [
    "mutable struct ConjugateGradientDescent <: DescentMethod\n",
    "    d\n",
    "    g\n",
    "end\n",
    "function init!(M::ConjugateGradientDescent, f, df, x)\n",
    "    M.g = df(x)\n",
    "    M.d = -M.g\n",
    "    return M\n",
    "end\n",
    "\n",
    "\n",
    "function step2(M::ConjugateGradientDescent, f, df, x)\n",
    "    d,g=M.d,M.g\n",
    "    dg =df(x)\n",
    "    β = max(0, dot(dg, dg-g)/(g⋅g))\n",
    "    d′ = -dg + β*d\n",
    "    x′ = line_search(f, x, d′)\n",
    "    M.d, M.g = d′, dg\n",
    "    return x′[2]\n",
    "end        "
   ]
  },
  {
   "cell_type": "code",
   "execution_count": 10,
   "id": "2c63df56",
   "metadata": {},
   "outputs": [
    {
     "data": {
      "text/plain": [
       "GradientDescent(0.1)"
      ]
     },
     "execution_count": 10,
     "metadata": {},
     "output_type": "execute_result"
    }
   ],
   "source": [
    "M=GradientDescent(0.1)"
   ]
  },
  {
   "cell_type": "code",
   "execution_count": 11,
   "id": "8f7f1ea9",
   "metadata": {},
   "outputs": [],
   "source": [
    "i=0\n",
    "s=1.\n",
    "while abs(s)>0.001\n",
    "   s=step(M,f,df,s)\n",
    "   i=i+1\n",
    "end"
   ]
  },
  {
   "cell_type": "code",
   "execution_count": 12,
   "id": "80a66038",
   "metadata": {},
   "outputs": [
    {
     "data": {
      "text/plain": [
       "31"
      ]
     },
     "execution_count": 12,
     "metadata": {},
     "output_type": "execute_result"
    }
   ],
   "source": [
    "i"
   ]
  },
  {
   "cell_type": "code",
   "execution_count": 13,
   "id": "6eaabb9f",
   "metadata": {},
   "outputs": [
    {
     "data": {
      "text/plain": [
       "0.0009903520314283045"
      ]
     },
     "execution_count": 13,
     "metadata": {},
     "output_type": "execute_result"
    }
   ],
   "source": [
    "s"
   ]
  },
  {
   "cell_type": "code",
   "execution_count": 14,
   "id": "ffa4017f",
   "metadata": {},
   "outputs": [
    {
     "data": {
      "text/plain": [
       "ConjugateGradientDescent(2, -2)"
      ]
     },
     "execution_count": 14,
     "metadata": {},
     "output_type": "execute_result"
    }
   ],
   "source": [
    "N=ConjugateGradientDescent(df(1),-df(1))"
   ]
  },
  {
   "cell_type": "code",
   "execution_count": 16,
   "id": "9ad3a04a",
   "metadata": {},
   "outputs": [],
   "source": [
    "j=0\n",
    "c=1.\n",
    "while abs(c)>0.001\n",
    "   c=step2(N,f,df,c)\n",
    "   j=j+1\n",
    "end"
   ]
  },
  {
   "cell_type": "code",
   "execution_count": 17,
   "id": "b58ea042",
   "metadata": {},
   "outputs": [
    {
     "data": {
      "text/plain": [
       "9"
      ]
     },
     "execution_count": 17,
     "metadata": {},
     "output_type": "execute_result"
    }
   ],
   "source": [
    "j"
   ]
  },
  {
   "cell_type": "code",
   "execution_count": 18,
   "id": "7f407238",
   "metadata": {},
   "outputs": [
    {
     "data": {
      "text/plain": [
       "-0.0005232720039011942"
      ]
     },
     "execution_count": 18,
     "metadata": {},
     "output_type": "execute_result"
    }
   ],
   "source": [
    "c"
   ]
  },
  {
   "cell_type": "code",
   "execution_count": 19,
   "id": "8cc8af32",
   "metadata": {},
   "outputs": [
    {
     "data": {
      "text/plain": [
       "GradientDescentOpt(0.1)"
      ]
     },
     "execution_count": 19,
     "metadata": {},
     "output_type": "execute_result"
    }
   ],
   "source": [
    "L=GradientDescentOpt(0.1)"
   ]
  },
  {
   "cell_type": "code",
   "execution_count": 20,
   "id": "57108f9c",
   "metadata": {},
   "outputs": [],
   "source": [
    "k=0\n",
    "p=1.\n",
    "while abs(p)>0.0001\n",
    "   p=step1(L,f,df,p)\n",
    "   k=k+1\n",
    "end"
   ]
  },
  {
   "cell_type": "code",
   "execution_count": 21,
   "id": "2fa63e41",
   "metadata": {},
   "outputs": [
    {
     "data": {
      "text/plain": [
       "10"
      ]
     },
     "execution_count": 21,
     "metadata": {},
     "output_type": "execute_result"
    }
   ],
   "source": [
    "k"
   ]
  },
  {
   "cell_type": "code",
   "execution_count": 22,
   "id": "f89fc198",
   "metadata": {},
   "outputs": [
    {
     "data": {
      "text/plain": [
       "3.6561584400629754e-5"
      ]
     },
     "execution_count": 22,
     "metadata": {},
     "output_type": "execute_result"
    }
   ],
   "source": [
    "p"
   ]
  }
 ],
 "metadata": {
  "kernelspec": {
   "display_name": "Julia 1.6.4",
   "language": "julia",
   "name": "julia-1.6"
  },
  "language_info": {
   "file_extension": ".jl",
   "mimetype": "application/julia",
   "name": "julia",
   "version": "1.6.4"
  }
 },
 "nbformat": 4,
 "nbformat_minor": 5
}
