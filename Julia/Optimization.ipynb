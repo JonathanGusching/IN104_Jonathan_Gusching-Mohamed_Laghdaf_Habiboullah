{
 "cells": [
  {
   "cell_type": "markdown",
   "id": "c7a44161",
   "metadata": {},
   "source": [
    "# Methodes de descente de Gradient"
   ]
  },
  {
   "cell_type": "code",
   "execution_count": 1,
   "id": "91067324",
   "metadata": {},
   "outputs": [
    {
     "data": {
      "text/plain": [
       "df (generic function with 1 method)"
      ]
     },
     "execution_count": 1,
     "metadata": {},
     "output_type": "execute_result"
    }
   ],
   "source": [
    "f(x)=x^2+1\n",
    "df(x)=2*x # admettons qu'on a la dérivée sinon on peut l'approximer avec les éléments finis"
   ]
  },
  {
   "cell_type": "code",
   "execution_count": 2,
   "id": "8c3a3b29",
   "metadata": {},
   "outputs": [],
   "source": [
    "using Optim\n",
    "using LinearAlgebra"
   ]
  },
  {
   "cell_type": "code",
   "execution_count": 3,
   "id": "a644ba3f",
   "metadata": {},
   "outputs": [
    {
     "data": {
      "text/plain": [
       "bracket_minimum (generic function with 2 methods)"
      ]
     },
     "execution_count": 3,
     "metadata": {},
     "output_type": "execute_result"
    }
   ],
   "source": [
    "function bracket_minimum(f, x=0; s=1e-2, k=2.0) # Cette fonction classique permet de réduire le domaine de recherche du min\n",
    "    a, ya= x,f(x)\n",
    "    b, yb= a+s, f(a+s)\n",
    "    if yb > ya\n",
    "        a, b = b, a\n",
    "        ya, yb = yb, ya\n",
    "        s = -s\n",
    "    end\n",
    "    while true\n",
    "        c, yc = b + s, f(b + s)\n",
    "        if yc > yb\n",
    "            return a < c ? (a, c) : (c, a)\n",
    "        end\n",
    "        a, ya, b, yb = b, yb, c, yc\n",
    "        s *= k\n",
    "    end\n",
    "end  "
   ]
  },
  {
   "cell_type": "code",
   "execution_count": 4,
   "id": "5dd1ea0c",
   "metadata": {},
   "outputs": [
    {
     "data": {
      "text/plain": [
       "(-0.01, 0.01)"
      ]
     },
     "execution_count": 4,
     "metadata": {},
     "output_type": "execute_result"
    }
   ],
   "source": [
    "(a,c)=bracket_minimum(f)"
   ]
  },
  {
   "cell_type": "code",
   "execution_count": 5,
   "id": "166fe5b6",
   "metadata": {},
   "outputs": [
    {
     "data": {
      "text/plain": [
       "line_search (generic function with 1 method)"
      ]
     },
     "execution_count": 5,
     "metadata": {},
     "output_type": "execute_result"
    }
   ],
   "source": [
    "function line_search(f,x,d) # Cette fonction sera utile pour modifier le pas\n",
    "    obj=c->f(x+c*d)\n",
    "    a, b = bracket_minimum(obj)\n",
    "    c = Optim.optimize(obj, a, b)\n",
    "    m=Optim.minimizer(c)\n",
    "    return x + a*d\n",
    "end\n"
   ]
  },
  {
   "cell_type": "code",
   "execution_count": 6,
   "id": "fdc5c9bf",
   "metadata": {},
   "outputs": [
    {
     "data": {
      "text/plain": [
       "-1.54"
      ]
     },
     "execution_count": 6,
     "metadata": {},
     "output_type": "execute_result"
    }
   ],
   "source": [
    "line_search(f,1,2)"
   ]
  },
  {
   "cell_type": "code",
   "execution_count": 7,
   "id": "8989ff2e",
   "metadata": {},
   "outputs": [
    {
     "data": {
      "text/plain": [
       "Results of Optimization Algorithm\n",
       " * Algorithm: Brent's Method\n",
       " * Search Interval: [-0.500000, 0.500000]\n",
       " * Minimizer: 4.302114e-16\n",
       " * Minimum: 1.000000e+00\n",
       " * Iterations: 5\n",
       " * Convergence: max(|x - x_upper|, |x - x_lower|) <= 2*(1.5e-08*|x|+2.2e-16): true\n",
       " * Objective Function Calls: 6"
      ]
     },
     "execution_count": 7,
     "metadata": {},
     "output_type": "execute_result"
    }
   ],
   "source": [
    "i=optimize(f, -0.5,0.5)"
   ]
  },
  {
   "cell_type": "code",
   "execution_count": 8,
   "id": "f31f59c2",
   "metadata": {},
   "outputs": [
    {
     "data": {
      "text/plain": [
       "4.3021142204224816e-16"
      ]
     },
     "execution_count": 8,
     "metadata": {},
     "output_type": "execute_result"
    }
   ],
   "source": [
    "Optim.minimizer(i)"
   ]
  },
  {
   "cell_type": "code",
   "execution_count": 10,
   "id": "f796e44b",
   "metadata": {},
   "outputs": [
    {
     "data": {
      "text/plain": [
       "step (generic function with 1 method)"
      ]
     },
     "execution_count": 10,
     "metadata": {},
     "output_type": "execute_result"
    }
   ],
   "source": [
    "abstract type DescentMethod end\n",
    "struct GradientDescent <: DescentMethod\n",
    "    a\n",
    "end\n",
    "init!(M::GradientDescent, f, df, x) = M\n",
    "function step(M::GradientDescent, f, df, x)\n",
    "    a,g= M.a, df(x)\n",
    "    return x-a*g\n",
    "end"
   ]
  },
  {
   "cell_type": "code",
   "execution_count": 11,
   "id": "6ec131f5",
   "metadata": {},
   "outputs": [
    {
     "data": {
      "text/plain": [
       "step1 (generic function with 1 method)"
      ]
     },
     "execution_count": 11,
     "metadata": {},
     "output_type": "execute_result"
    }
   ],
   "source": [
    "mutable struct ConjugateGradientDescent <: DescentMethod\n",
    "    d\n",
    "    g\n",
    "end\n",
    "function init!(M::ConjugateGradientDescent, f, df, x)\n",
    "    M.g = df(x)\n",
    "    M.d = -M.g\n",
    "    return M\n",
    "end\n",
    "\n",
    "\n",
    "function step1(M::ConjugateGradientDescent, f, df, x)\n",
    "    d,g=M.d,M.g\n",
    "    dg =df(x)\n",
    "    β = max(0, dot(dg, dg-g)/(g⋅g))\n",
    "    d′ = -dg + β*d\n",
    "    x′ = line_search(f, x, d′)\n",
    "    M.d, M.g = d′, dg\n",
    "    return x′\n",
    "end        "
   ]
  },
  {
   "cell_type": "code",
   "execution_count": 84,
   "id": "2c63df56",
   "metadata": {},
   "outputs": [
    {
     "data": {
      "text/plain": [
       "GradientDescent(0.1)"
      ]
     },
     "execution_count": 84,
     "metadata": {},
     "output_type": "execute_result"
    }
   ],
   "source": [
    "M=GradientDescent(0.1)"
   ]
  },
  {
   "cell_type": "code",
   "execution_count": 85,
   "id": "8f7f1ea9",
   "metadata": {},
   "outputs": [],
   "source": [
    "i=0\n",
    "s=1.\n",
    "while abs(s)>0.001\n",
    "   s=step(M,f,df,s)\n",
    "   i=i+1\n",
    "end"
   ]
  },
  {
   "cell_type": "code",
   "execution_count": 86,
   "id": "80a66038",
   "metadata": {},
   "outputs": [
    {
     "data": {
      "text/plain": [
       "31"
      ]
     },
     "execution_count": 86,
     "metadata": {},
     "output_type": "execute_result"
    }
   ],
   "source": [
    "i"
   ]
  },
  {
   "cell_type": "code",
   "execution_count": 87,
   "id": "ffa4017f",
   "metadata": {},
   "outputs": [
    {
     "data": {
      "text/plain": [
       "ConjugateGradientDescent(2, -2)"
      ]
     },
     "execution_count": 87,
     "metadata": {},
     "output_type": "execute_result"
    }
   ],
   "source": [
    "N=ConjugateGradientDescent(df(1),-df(1))"
   ]
  },
  {
   "cell_type": "code",
   "execution_count": 88,
   "id": "9ad3a04a",
   "metadata": {},
   "outputs": [],
   "source": [
    "j=0\n",
    "c=1.\n",
    "while abs(c)>0.001\n",
    "   c=step1(N,f,df,c)\n",
    "   j=j+1\n",
    "end"
   ]
  },
  {
   "cell_type": "code",
   "execution_count": 89,
   "id": "b58ea042",
   "metadata": {},
   "outputs": [
    {
     "data": {
      "text/plain": [
       "9"
      ]
     },
     "execution_count": 89,
     "metadata": {},
     "output_type": "execute_result"
    }
   ],
   "source": [
    "j"
   ]
  }
 ],
 "metadata": {
  "kernelspec": {
   "display_name": "Julia 1.6.4",
   "language": "julia",
   "name": "julia-1.6"
  },
  "language_info": {
   "file_extension": ".jl",
   "mimetype": "application/julia",
   "name": "julia",
   "version": "1.6.4"
  }
 },
 "nbformat": 4,
 "nbformat_minor": 5
}
