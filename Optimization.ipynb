{
 "cells": [
  {
   "cell_type": "markdown",
   "id": "c7a44161",
   "metadata": {},
   "source": [
    "# Des méthodes des descente de gradient"
   ]
  },
  {
   "cell_type": "code",
   "execution_count": 85,
   "id": "91067324",
   "metadata": {},
   "outputs": [
    {
     "data": {
      "text/plain": [
       "df (generic function with 1 method)"
      ]
     },
     "execution_count": 85,
     "metadata": {},
     "output_type": "execute_result"
    }
   ],
   "source": [
    "f(x)=sin(x)\n",
    "df(x)=cos(x) # admettons qu'on a la dérivée sinon on peut l'approximer avec les éléments finis"
   ]
  },
  {
   "cell_type": "code",
   "execution_count": 2,
   "id": "a644ba3f",
   "metadata": {},
   "outputs": [
    {
     "data": {
      "text/plain": [
       "bracket_minimum (generic function with 2 methods)"
      ]
     },
     "execution_count": 2,
     "metadata": {},
     "output_type": "execute_result"
    }
   ],
   "source": [
    "function bracket_minimum(f, x=0; s=1e-2, k=2.0) # Cette fonction classique permet de réduire le domaine de recherche du min\n",
    "    a, ya= x,f(x)\n",
    "    b, yb= a+s, f(a+s)\n",
    "    if yb > ya\n",
    "        a, b = b, a\n",
    "        ya, yb = yb, ya\n",
    "        s = -s\n",
    "    end\n",
    "    while true\n",
    "        c, yc = b + s, f(b + s)\n",
    "        if yc > yb\n",
    "            return a < c ? (a, c) : (c, a)\n",
    "        end\n",
    "        a, ya, b, yb = b, yb, c, yc\n",
    "        s *= k\n",
    "    end\n",
    "end  "
   ]
  },
  {
   "cell_type": "code",
   "execution_count": 24,
   "id": "5dd1ea0c",
   "metadata": {},
   "outputs": [
    {
     "data": {
      "text/plain": [
       "(-2.55, -0.6300000000000001)"
      ]
     },
     "execution_count": 24,
     "metadata": {},
     "output_type": "execute_result"
    }
   ],
   "source": [
    "(a,c)=bracket_minimum(f)"
   ]
  },
  {
   "cell_type": "code",
   "execution_count": 34,
   "id": "166fe5b6",
   "metadata": {},
   "outputs": [
    {
     "data": {
      "text/plain": [
       "line_search (generic function with 1 method)"
      ]
     },
     "execution_count": 34,
     "metadata": {},
     "output_type": "execute_result"
    }
   ],
   "source": [
    "function line_search(f,x,d) # Cette fonction sera utile pour modifier le pas\n",
    "    obj=c->f(x+c*d)\n",
    "    a, b = bracket_minimum(obj)\n",
    "    c = optimize(obj, a, b)\n",
    "    m=Optim.minimizer(c)\n",
    "    return x + a*d\n",
    "end\n"
   ]
  },
  {
   "cell_type": "code",
   "execution_count": 35,
   "id": "40598512",
   "metadata": {},
   "outputs": [
    {
     "data": {
      "text/plain": [
       "-4.1"
      ]
     },
     "execution_count": 35,
     "metadata": {},
     "output_type": "execute_result"
    }
   ],
   "source": [
    "line_search(f,1,2)"
   ]
  },
  {
   "cell_type": "code",
   "execution_count": 26,
   "id": "8989ff2e",
   "metadata": {},
   "outputs": [
    {
     "data": {
      "text/plain": [
       "Results of Optimization Algorithm\n",
       " * Algorithm: Brent's Method\n",
       " * Search Interval: [-0.500000, 0.500000]\n",
       " * Minimizer: -5.000000e-01\n",
       " * Minimum: -4.794255e-01\n",
       " * Iterations: 37\n",
       " * Convergence: max(|x - x_upper|, |x - x_lower|) <= 2*(1.5e-08*|x|+2.2e-16): true\n",
       " * Objective Function Calls: 38"
      ]
     },
     "execution_count": 26,
     "metadata": {},
     "output_type": "execute_result"
    }
   ],
   "source": [
    "i=optimize(f, -0.5,0.5)"
   ]
  },
  {
   "cell_type": "code",
   "execution_count": 33,
   "id": "60564f6e",
   "metadata": {},
   "outputs": [
    {
     "data": {
      "text/plain": [
       "-0.49999998893841135"
      ]
     },
     "execution_count": 33,
     "metadata": {},
     "output_type": "execute_result"
    }
   ],
   "source": [
    "Optim.minimizer(i)"
   ]
  },
  {
   "cell_type": "code",
   "execution_count": 73,
   "id": "f796e44b",
   "metadata": {},
   "outputs": [
    {
     "data": {
      "text/plain": [
       "step2 (generic function with 1 method)"
      ]
     },
     "execution_count": 73,
     "metadata": {},
     "output_type": "execute_result"
    }
   ],
   "source": [
    "abstract type DescentMethod end\n",
    "struct GradientDescent <: DescentMethod\n",
    "    a\n",
    "end\n",
    "init!(M::GradientDescent, f, df, x) = M\n",
    "function step2(M::GradientDescent, f, df, x)\n",
    "    a,g= M.a, df(x)\n",
    "    return x-a*g\n",
    "end"
   ]
  },
  {
   "cell_type": "code",
   "execution_count": 67,
   "id": "6ec131f5",
   "metadata": {},
   "outputs": [
    {
     "data": {
      "text/plain": [
       "step (generic function with 10 methods)"
      ]
     },
     "execution_count": 67,
     "metadata": {},
     "output_type": "execute_result"
    }
   ],
   "source": [
    "mutable struct ConjugateGradientDescent <: DescentMethod\n",
    "    d\n",
    "    g\n",
    "end\n",
    "function init!(M::ConjugateGradientDescent, f, df, x)\n",
    "    M.g = df(x)\n",
    "    M.d = -M.g\n",
    "    return M\n",
    "end\n",
    "import Base: step\n",
    "\n",
    "function step(M::ConjugateGradientDescent, f, df, x)\n",
    "    d,g=M.d,M.g\n",
    "    dg =df(x)\n",
    "    β = max(0, dot(dg, dg-g)/(g⋅g))\n",
    "    d′ = -dg + β*d\n",
    "    x′ = line_search(f, x, d′)\n",
    "    M.d, M.g = d′, dg\n",
    "    return x′\n",
    "end        "
   ]
  },
  {
   "cell_type": "code",
   "execution_count": 107,
   "id": "be7dd55f",
   "metadata": {},
   "outputs": [
    {
     "data": {
      "text/plain": [
       "GradientDescent(0.05)"
      ]
     },
     "execution_count": 107,
     "metadata": {},
     "output_type": "execute_result"
    }
   ],
   "source": [
    "M=GradientDescent(0.05)"
   ]
  },
  {
   "cell_type": "code",
   "execution_count": 108,
   "id": "e278498c",
   "metadata": {},
   "outputs": [
    {
     "data": {
      "text/plain": [
       "0.05024979173609871"
      ]
     },
     "execution_count": 108,
     "metadata": {},
     "output_type": "execute_result"
    }
   ],
   "source": [
    "s=step2(M,f,df,0.1)"
   ]
  },
  {
   "cell_type": "code",
   "execution_count": 109,
   "id": "b4624f86",
   "metadata": {},
   "outputs": [
    {
     "data": {
      "text/plain": [
       "0.0003129044934652575"
      ]
     },
     "execution_count": 109,
     "metadata": {},
     "output_type": "execute_result"
    }
   ],
   "source": [
    "s2=step2(M,f,df,s)"
   ]
  }
 ],
 "metadata": {
  "kernelspec": {
   "display_name": "Julia 1.6.4",
   "language": "julia",
   "name": "julia-1.6"
  },
  "language_info": {
   "file_extension": ".jl",
   "mimetype": "application/julia",
   "name": "julia",
   "version": "1.6.4"
  }
 },
 "nbformat": 4,
 "nbformat_minor": 5
}
